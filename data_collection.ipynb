{
  "cells": [
    {
      "cell_type": "code",
      "execution_count": null,
      "id": "cd6b80cb",
      "metadata": {
        "id": "cd6b80cb"
      },
      "outputs": [],
      "source": []
    },
    {
      "cell_type": "code",
      "execution_count": null,
      "id": "30481517",
      "metadata": {
        "id": "30481517"
      },
      "outputs": [],
      "source": [
        "# importing the libraries\n",
        "from googleapiclient.discovery import build\n",
        "import pandas as pd\n"
      ]
    },
    {
      "cell_type": "code",
      "execution_count": null,
      "id": "92bc7525",
      "metadata": {
        "id": "92bc7525"
      },
      "outputs": [],
      "source": [
        "api_key='your_key'"
      ]
    },
    {
      "cell_type": "code",
      "execution_count": null,
      "id": "a24ed981",
      "metadata": {
        "id": "a24ed981"
      },
      "outputs": [],
      "source": [
        "#channel_id='UC-CSyyi47VX1lD9zyeABW3w'\n",
        "youtube = build('youtube', 'v3', developerKey=api_key) "
      ]
    },
    {
      "cell_type": "code",
      "execution_count": null,
      "id": "0b0b21af",
      "metadata": {
        "id": "0b0b21af"
      },
      "outputs": [],
      "source": [
        "\"\"\"\n",
        "def get_channel_stats(youtube, channel_id):\n",
        "    all_data = []\n",
        "    request = youtube.channels().list(\n",
        "                part='snippet,contentDetails,statistics',\n",
        "                id=channel_id)\n",
        "    response = request.execute() \n",
        "    print(response)\n",
        "\n",
        "    data = dict(Channel_name = response['items'][0]['snippet']['title'],\n",
        "                    Subscribers = response['items'][0]['statistics']['subscriberCount'],\n",
        "                    Views = response['items'][0]['statistics']['viewCount'],\n",
        "                    Total_videos = response['items'][0]['statistics']['videoCount'],\n",
        "                    playlist_id = response['items'][0]['contentDetails']['relatedPlaylists']['uploads'])\n",
        "    \n",
        "    return data\n",
        "    \n",
        " \"\"\"   "
      ]
    },
    {
      "cell_type": "code",
      "execution_count": null,
      "id": "5cde62ee",
      "metadata": {
        "id": "5cde62ee"
      },
      "outputs": [],
      "source": [
        "#get_channel_stats(youtube, channel_id)"
      ]
    },
    {
      "cell_type": "code",
      "execution_count": null,
      "id": "557a9c66",
      "metadata": {
        "id": "557a9c66"
      },
      "outputs": [],
      "source": [
        "category = []\n",
        "no_of_samples = 1700\n",
        "tvl_titles = []\n",
        "tvl_descriptions = []"
      ]
    },
    {
      "cell_type": "code",
      "execution_count": null,
      "id": "acd2acb7",
      "metadata": {
        "id": "acd2acb7"
      },
      "outputs": [],
      "source": []
    },
    {
      "cell_type": "code",
      "execution_count": null,
      "id": "35a540e8",
      "metadata": {
        "id": "35a540e8"
      },
      "outputs": [],
      "source": [
        "#travel data\n",
        "req = youtube.search().list(q='travel vlogs', part='snippet', type='video', maxResults = 50)\n",
        "res = req.execute()\n",
        "while(len(tvl_titles)<no_of_samples):\n",
        "    for i in range(len(res['items'])):\n",
        "        tvl_titles.append(res['items'][i]['snippet']['title'])\n",
        "        tvl_descriptions.append(res['items'][i]['snippet']['description'])\n",
        "        category.append('travel')\n",
        "            \n",
        "    if('nextPageToken' in res):\n",
        "        next_page_token = res['nextPageToken']\n",
        "        req = youtube.search().list(q='travelling', part='snippet', type='video', maxResults = 50, pageToken=next_page_token)\n",
        "        res = req.execute()\n",
        "    else:\n",
        "        break"
      ]
    },
    {
      "cell_type": "code",
      "execution_count": null,
      "id": "6735b21c",
      "metadata": {
        "id": "6735b21c"
      },
      "outputs": [],
      "source": [
        "# technology Data\n",
        "tech_titles = []\n",
        "tech_descriptions = []\n",
        "\n",
        "next_page_token = None\n",
        "req = youtube.search().list(q='technology', part='snippet', type='video', maxResults = 50)\n",
        "res = req.execute()\n",
        "while(len(tech_titles)<no_of_samples):\n",
        "    if(next_page_token is not None):\n",
        "        req = youtube.search().list(q='technology', part='snippet', type='video', maxResults = 50, pageToken=next_page_token)\n",
        "        res = req.execute()\n",
        "    for i in range(len(res['items'])):\n",
        "        tech_titles.append(res['items'][i]['snippet']['title'])\n",
        "        tech_descriptions.append(res['items'][i]['snippet']['description'])\n",
        "        category.append('technology')\n",
        "            \n",
        "    if('nextPageToken' in res):\n",
        "        next_page_token = res['nextPageToken']\n",
        "    else:\n",
        "        break"
      ]
    },
    {
      "cell_type": "code",
      "execution_count": null,
      "id": "8e5a38e0",
      "metadata": {
        "id": "8e5a38e0"
      },
      "outputs": [],
      "source": [
        "# Food Data\n",
        "food_titles = []\n",
        "food_descriptions = []\n",
        "\n",
        "next_page_token = None\n",
        "req = youtube.search().list(q='delicious food', part='snippet', type='video', maxResults = 50)\n",
        "res = req.execute()\n",
        "while(len(food_titles)<no_of_samples):\n",
        "    if(next_page_token is not None):\n",
        "        req = youtube.search().list(q='delicious food', part='snippet', type='video', maxResults = 50, pageToken=next_page_token)\n",
        "        res = req.execute()\n",
        "    for i in range(len(res['items'])):\n",
        "        food_titles.append(res['items'][i]['snippet']['title'])\n",
        "        food_descriptions.append(res['items'][i]['snippet']['description'])\n",
        "        category.append('food')\n",
        "            \n",
        "    if('nextPageToken' in res):\n",
        "        next_page_token = res['nextPageToken']\n",
        "    else:\n",
        "        break\n"
      ]
    },
    {
      "cell_type": "code",
      "execution_count": null,
      "id": "8860b1bc",
      "metadata": {
        "id": "8860b1bc"
      },
      "outputs": [],
      "source": [
        "# Art and Music Data\n",
        "art_titles = []\n",
        "art_descriptions = []\n",
        "\n",
        "\n",
        "next_page_token = None\n",
        "req = youtube.search().list(q='painting', part='snippet', type='video', maxResults = 50)\n",
        "res = req.execute()\n",
        "while(len(art_titles)<no_of_samples):\n",
        "    if(next_page_token is not None):\n",
        "        req = youtube.search().list(q='painting', part='snippet', type='video', maxResults = 50, pageToken=next_page_token)\n",
        "        res = req.execute()\n",
        "    for i in range(len(res['items'])):\n",
        "        art_titles.append(res['items'][i]['snippet']['title'])\n",
        "        art_descriptions.append(res['items'][i]['snippet']['description'])\n",
        "        category.append('art and music')\n",
        "            \n",
        "    if('nextPageToken' in res):\n",
        "        next_page_token = res['nextPageToken']\n",
        "    else:\n",
        "        break\n",
        " "
      ]
    },
    {
      "cell_type": "code",
      "execution_count": null,
      "id": "c1f1edd1",
      "metadata": {
        "id": "c1f1edd1"
      },
      "outputs": [],
      "source": [
        "# Sports Data\n",
        "sports_titles = []\n",
        "sports_descriptions = []\n",
        "\n",
        "\n",
        "next_page_token = None\n",
        "req = youtube.search().list(q='sports match', part='snippet', type='video', maxResults = 50)\n",
        "res = req.execute()\n",
        "while(len(sports_titles)<no_of_samples):\n",
        "    if(next_page_token is not None):\n",
        "        req = youtube.search().list(q='sports match', part='snippet', type='video', maxResults = 50, pageToken=next_page_token)\n",
        "        res = req.execute()\n",
        "    for i in range(len(res['items'])):\n",
        "        sports_titles.append(res['items'][i]['snippet']['title'])\n",
        "        sports_descriptions.append(res['items'][i]['snippet']['description'])\n",
        "        category.append('sports')\n",
        "            \n",
        "    if('nextPageToken' in res):\n",
        "        next_page_token = res['nextPageToken']\n",
        "    else:\n",
        "        break\n",
        " "
      ]
    },
    {
      "cell_type": "code",
      "execution_count": null,
      "id": "b54648a3",
      "metadata": {
        "id": "b54648a3"
      },
      "outputs": [],
      "source": [
        "final_titles = tvl_titles + tech_titles + food_titles + art_titles + sports_titles\n",
        "final_descriptions = tvl_descriptions + tech_descriptions + food_descriptions + art_descriptions + sports_descriptions "
      ]
    },
    {
      "cell_type": "code",
      "execution_count": null,
      "id": "e982cf4c",
      "metadata": {
        "id": "e982cf4c"
      },
      "outputs": [],
      "source": [
        "data = pd.DataFrame({'Title': final_titles, 'Description': final_descriptions, 'Category': category}) \n",
        "data.to_csv('YT_Videos_data.csv')"
      ]
    },
    {
      "cell_type": "code",
      "execution_count": null,
      "id": "aMhVtHVG6QW3",
      "metadata": {
        "colab": {
          "base_uri": "https://localhost:8080/",
          "height": 75,
          "resources": {
            "http://localhost:8080/nbextensions/google.colab/files.js": {
              "data": "Ly8gQ29weXJpZ2h0IDIwMTcgR29vZ2xlIExMQwovLwovLyBMaWNlbnNlZCB1bmRlciB0aGUgQXBhY2hlIExpY2Vuc2UsIFZlcnNpb24gMi4wICh0aGUgIkxpY2Vuc2UiKTsKLy8geW91IG1heSBub3QgdXNlIHRoaXMgZmlsZSBleGNlcHQgaW4gY29tcGxpYW5jZSB3aXRoIHRoZSBMaWNlbnNlLgovLyBZb3UgbWF5IG9idGFpbiBhIGNvcHkgb2YgdGhlIExpY2Vuc2UgYXQKLy8KLy8gICAgICBodHRwOi8vd3d3LmFwYWNoZS5vcmcvbGljZW5zZXMvTElDRU5TRS0yLjAKLy8KLy8gVW5sZXNzIHJlcXVpcmVkIGJ5IGFwcGxpY2FibGUgbGF3IG9yIGFncmVlZCB0byBpbiB3cml0aW5nLCBzb2Z0d2FyZQovLyBkaXN0cmlidXRlZCB1bmRlciB0aGUgTGljZW5zZSBpcyBkaXN0cmlidXRlZCBvbiBhbiAiQVMgSVMiIEJBU0lTLAovLyBXSVRIT1VUIFdBUlJBTlRJRVMgT1IgQ09ORElUSU9OUyBPRiBBTlkgS0lORCwgZWl0aGVyIGV4cHJlc3Mgb3IgaW1wbGllZC4KLy8gU2VlIHRoZSBMaWNlbnNlIGZvciB0aGUgc3BlY2lmaWMgbGFuZ3VhZ2UgZ292ZXJuaW5nIHBlcm1pc3Npb25zIGFuZAovLyBsaW1pdGF0aW9ucyB1bmRlciB0aGUgTGljZW5zZS4KCi8qKgogKiBAZmlsZW92ZXJ2aWV3IEhlbHBlcnMgZm9yIGdvb2dsZS5jb2xhYiBQeXRob24gbW9kdWxlLgogKi8KKGZ1bmN0aW9uKHNjb3BlKSB7CmZ1bmN0aW9uIHNwYW4odGV4dCwgc3R5bGVBdHRyaWJ1dGVzID0ge30pIHsKICBjb25zdCBlbGVtZW50ID0gZG9jdW1lbnQuY3JlYXRlRWxlbWVudCgnc3BhbicpOwogIGVsZW1lbnQudGV4dENvbnRlbnQgPSB0ZXh0OwogIGZvciAoY29uc3Qga2V5IG9mIE9iamVjdC5rZXlzKHN0eWxlQXR0cmlidXRlcykpIHsKICAgIGVsZW1lbnQuc3R5bGVba2V5XSA9IHN0eWxlQXR0cmlidXRlc1trZXldOwogIH0KICByZXR1cm4gZWxlbWVudDsKfQoKLy8gTWF4IG51bWJlciBvZiBieXRlcyB3aGljaCB3aWxsIGJlIHVwbG9hZGVkIGF0IGEgdGltZS4KY29uc3QgTUFYX1BBWUxPQURfU0laRSA9IDEwMCAqIDEwMjQ7CgpmdW5jdGlvbiBfdXBsb2FkRmlsZXMoaW5wdXRJZCwgb3V0cHV0SWQpIHsKICBjb25zdCBzdGVwcyA9IHVwbG9hZEZpbGVzU3RlcChpbnB1dElkLCBvdXRwdXRJZCk7CiAgY29uc3Qgb3V0cHV0RWxlbWVudCA9IGRvY3VtZW50LmdldEVsZW1lbnRCeUlkKG91dHB1dElkKTsKICAvLyBDYWNoZSBzdGVwcyBvbiB0aGUgb3V0cHV0RWxlbWVudCB0byBtYWtlIGl0IGF2YWlsYWJsZSBmb3IgdGhlIG5leHQgY2FsbAogIC8vIHRvIHVwbG9hZEZpbGVzQ29udGludWUgZnJvbSBQeXRob24uCiAgb3V0cHV0RWxlbWVudC5zdGVwcyA9IHN0ZXBzOwoKICByZXR1cm4gX3VwbG9hZEZpbGVzQ29udGludWUob3V0cHV0SWQpOwp9CgovLyBUaGlzIGlzIHJvdWdobHkgYW4gYXN5bmMgZ2VuZXJhdG9yIChub3Qgc3VwcG9ydGVkIGluIHRoZSBicm93c2VyIHlldCksCi8vIHdoZXJlIHRoZXJlIGFyZSBtdWx0aXBsZSBhc3luY2hyb25vdXMgc3RlcHMgYW5kIHRoZSBQeXRob24gc2lkZSBpcyBnb2luZwovLyB0byBwb2xsIGZvciBjb21wbGV0aW9uIG9mIGVhY2ggc3RlcC4KLy8gVGhpcyB1c2VzIGEgUHJvbWlzZSB0byBibG9jayB0aGUgcHl0aG9uIHNpZGUgb24gY29tcGxldGlvbiBvZiBlYWNoIHN0ZXAsCi8vIHRoZW4gcGFzc2VzIHRoZSByZXN1bHQgb2YgdGhlIHByZXZpb3VzIHN0ZXAgYXMgdGhlIGlucHV0IHRvIHRoZSBuZXh0IHN0ZXAuCmZ1bmN0aW9uIF91cGxvYWRGaWxlc0NvbnRpbnVlKG91dHB1dElkKSB7CiAgY29uc3Qgb3V0cHV0RWxlbWVudCA9IGRvY3VtZW50LmdldEVsZW1lbnRCeUlkKG91dHB1dElkKTsKICBjb25zdCBzdGVwcyA9IG91dHB1dEVsZW1lbnQuc3RlcHM7CgogIGNvbnN0IG5leHQgPSBzdGVwcy5uZXh0KG91dHB1dEVsZW1lbnQubGFzdFByb21pc2VWYWx1ZSk7CiAgcmV0dXJuIFByb21pc2UucmVzb2x2ZShuZXh0LnZhbHVlLnByb21pc2UpLnRoZW4oKHZhbHVlKSA9PiB7CiAgICAvLyBDYWNoZSB0aGUgbGFzdCBwcm9taXNlIHZhbHVlIHRvIG1ha2UgaXQgYXZhaWxhYmxlIHRvIHRoZSBuZXh0CiAgICAvLyBzdGVwIG9mIHRoZSBnZW5lcmF0b3IuCiAgICBvdXRwdXRFbGVtZW50Lmxhc3RQcm9taXNlVmFsdWUgPSB2YWx1ZTsKICAgIHJldHVybiBuZXh0LnZhbHVlLnJlc3BvbnNlOwogIH0pOwp9CgovKioKICogR2VuZXJhdG9yIGZ1bmN0aW9uIHdoaWNoIGlzIGNhbGxlZCBiZXR3ZWVuIGVhY2ggYXN5bmMgc3RlcCBvZiB0aGUgdXBsb2FkCiAqIHByb2Nlc3MuCiAqIEBwYXJhbSB7c3RyaW5nfSBpbnB1dElkIEVsZW1lbnQgSUQgb2YgdGhlIGlucHV0IGZpbGUgcGlja2VyIGVsZW1lbnQuCiAqIEBwYXJhbSB7c3RyaW5nfSBvdXRwdXRJZCBFbGVtZW50IElEIG9mIHRoZSBvdXRwdXQgZGlzcGxheS4KICogQHJldHVybiB7IUl0ZXJhYmxlPCFPYmplY3Q+fSBJdGVyYWJsZSBvZiBuZXh0IHN0ZXBzLgogKi8KZnVuY3Rpb24qIHVwbG9hZEZpbGVzU3RlcChpbnB1dElkLCBvdXRwdXRJZCkgewogIGNvbnN0IGlucHV0RWxlbWVudCA9IGRvY3VtZW50LmdldEVsZW1lbnRCeUlkKGlucHV0SWQpOwogIGlucHV0RWxlbWVudC5kaXNhYmxlZCA9IGZhbHNlOwoKICBjb25zdCBvdXRwdXRFbGVtZW50ID0gZG9jdW1lbnQuZ2V0RWxlbWVudEJ5SWQob3V0cHV0SWQpOwogIG91dHB1dEVsZW1lbnQuaW5uZXJIVE1MID0gJyc7CgogIGNvbnN0IHBpY2tlZFByb21pc2UgPSBuZXcgUHJvbWlzZSgocmVzb2x2ZSkgPT4gewogICAgaW5wdXRFbGVtZW50LmFkZEV2ZW50TGlzdGVuZXIoJ2NoYW5nZScsIChlKSA9PiB7CiAgICAgIHJlc29sdmUoZS50YXJnZXQuZmlsZXMpOwogICAgfSk7CiAgfSk7CgogIGNvbnN0IGNhbmNlbCA9IGRvY3VtZW50LmNyZWF0ZUVsZW1lbnQoJ2J1dHRvbicpOwogIGlucHV0RWxlbWVudC5wYXJlbnRFbGVtZW50LmFwcGVuZENoaWxkKGNhbmNlbCk7CiAgY2FuY2VsLnRleHRDb250ZW50ID0gJ0NhbmNlbCB1cGxvYWQnOwogIGNvbnN0IGNhbmNlbFByb21pc2UgPSBuZXcgUHJvbWlzZSgocmVzb2x2ZSkgPT4gewogICAgY2FuY2VsLm9uY2xpY2sgPSAoKSA9PiB7CiAgICAgIHJlc29sdmUobnVsbCk7CiAgICB9OwogIH0pOwoKICAvLyBXYWl0IGZvciB0aGUgdXNlciB0byBwaWNrIHRoZSBmaWxlcy4KICBjb25zdCBmaWxlcyA9IHlpZWxkIHsKICAgIHByb21pc2U6IFByb21pc2UucmFjZShbcGlja2VkUHJvbWlzZSwgY2FuY2VsUHJvbWlzZV0pLAogICAgcmVzcG9uc2U6IHsKICAgICAgYWN0aW9uOiAnc3RhcnRpbmcnLAogICAgfQogIH07CgogIGNhbmNlbC5yZW1vdmUoKTsKCiAgLy8gRGlzYWJsZSB0aGUgaW5wdXQgZWxlbWVudCBzaW5jZSBmdXJ0aGVyIHBpY2tzIGFyZSBub3QgYWxsb3dlZC4KICBpbnB1dEVsZW1lbnQuZGlzYWJsZWQgPSB0cnVlOwoKICBpZiAoIWZpbGVzKSB7CiAgICByZXR1cm4gewogICAgICByZXNwb25zZTogewogICAgICAgIGFjdGlvbjogJ2NvbXBsZXRlJywKICAgICAgfQogICAgfTsKICB9CgogIGZvciAoY29uc3QgZmlsZSBvZiBmaWxlcykgewogICAgY29uc3QgbGkgPSBkb2N1bWVudC5jcmVhdGVFbGVtZW50KCdsaScpOwogICAgbGkuYXBwZW5kKHNwYW4oZmlsZS5uYW1lLCB7Zm9udFdlaWdodDogJ2JvbGQnfSkpOwogICAgbGkuYXBwZW5kKHNwYW4oCiAgICAgICAgYCgke2ZpbGUudHlwZSB8fCAnbi9hJ30pIC0gJHtmaWxlLnNpemV9IGJ5dGVzLCBgICsKICAgICAgICBgbGFzdCBtb2RpZmllZDogJHsKICAgICAgICAgICAgZmlsZS5sYXN0TW9kaWZpZWREYXRlID8gZmlsZS5sYXN0TW9kaWZpZWREYXRlLnRvTG9jYWxlRGF0ZVN0cmluZygpIDoKICAgICAgICAgICAgICAgICAgICAgICAgICAgICAgICAgICAgJ24vYSd9IC0gYCkpOwogICAgY29uc3QgcGVyY2VudCA9IHNwYW4oJzAlIGRvbmUnKTsKICAgIGxpLmFwcGVuZENoaWxkKHBlcmNlbnQpOwoKICAgIG91dHB1dEVsZW1lbnQuYXBwZW5kQ2hpbGQobGkpOwoKICAgIGNvbnN0IGZpbGVEYXRhUHJvbWlzZSA9IG5ldyBQcm9taXNlKChyZXNvbHZlKSA9PiB7CiAgICAgIGNvbnN0IHJlYWRlciA9IG5ldyBGaWxlUmVhZGVyKCk7CiAgICAgIHJlYWRlci5vbmxvYWQgPSAoZSkgPT4gewogICAgICAgIHJlc29sdmUoZS50YXJnZXQucmVzdWx0KTsKICAgICAgfTsKICAgICAgcmVhZGVyLnJlYWRBc0FycmF5QnVmZmVyKGZpbGUpOwogICAgfSk7CiAgICAvLyBXYWl0IGZvciB0aGUgZGF0YSB0byBiZSByZWFkeS4KICAgIGxldCBmaWxlRGF0YSA9IHlpZWxkIHsKICAgICAgcHJvbWlzZTogZmlsZURhdGFQcm9taXNlLAogICAgICByZXNwb25zZTogewogICAgICAgIGFjdGlvbjogJ2NvbnRpbnVlJywKICAgICAgfQogICAgfTsKCiAgICAvLyBVc2UgYSBjaHVua2VkIHNlbmRpbmcgdG8gYXZvaWQgbWVzc2FnZSBzaXplIGxpbWl0cy4gU2VlIGIvNjIxMTU2NjAuCiAgICBsZXQgcG9zaXRpb24gPSAwOwogICAgZG8gewogICAgICBjb25zdCBsZW5ndGggPSBNYXRoLm1pbihmaWxlRGF0YS5ieXRlTGVuZ3RoIC0gcG9zaXRpb24sIE1BWF9QQVlMT0FEX1NJWkUpOwogICAgICBjb25zdCBjaHVuayA9IG5ldyBVaW50OEFycmF5KGZpbGVEYXRhLCBwb3NpdGlvbiwgbGVuZ3RoKTsKICAgICAgcG9zaXRpb24gKz0gbGVuZ3RoOwoKICAgICAgY29uc3QgYmFzZTY0ID0gYnRvYShTdHJpbmcuZnJvbUNoYXJDb2RlLmFwcGx5KG51bGwsIGNodW5rKSk7CiAgICAgIHlpZWxkIHsKICAgICAgICByZXNwb25zZTogewogICAgICAgICAgYWN0aW9uOiAnYXBwZW5kJywKICAgICAgICAgIGZpbGU6IGZpbGUubmFtZSwKICAgICAgICAgIGRhdGE6IGJhc2U2NCwKICAgICAgICB9LAogICAgICB9OwoKICAgICAgbGV0IHBlcmNlbnREb25lID0gZmlsZURhdGEuYnl0ZUxlbmd0aCA9PT0gMCA/CiAgICAgICAgICAxMDAgOgogICAgICAgICAgTWF0aC5yb3VuZCgocG9zaXRpb24gLyBmaWxlRGF0YS5ieXRlTGVuZ3RoKSAqIDEwMCk7CiAgICAgIHBlcmNlbnQudGV4dENvbnRlbnQgPSBgJHtwZXJjZW50RG9uZX0lIGRvbmVgOwoKICAgIH0gd2hpbGUgKHBvc2l0aW9uIDwgZmlsZURhdGEuYnl0ZUxlbmd0aCk7CiAgfQoKICAvLyBBbGwgZG9uZS4KICB5aWVsZCB7CiAgICByZXNwb25zZTogewogICAgICBhY3Rpb246ICdjb21wbGV0ZScsCiAgICB9CiAgfTsKfQoKc2NvcGUuZ29vZ2xlID0gc2NvcGUuZ29vZ2xlIHx8IHt9OwpzY29wZS5nb29nbGUuY29sYWIgPSBzY29wZS5nb29nbGUuY29sYWIgfHwge307CnNjb3BlLmdvb2dsZS5jb2xhYi5fZmlsZXMgPSB7CiAgX3VwbG9hZEZpbGVzLAogIF91cGxvYWRGaWxlc0NvbnRpbnVlLAp9Owp9KShzZWxmKTsK",
              "headers": [
                [
                  "content-type",
                  "application/javascript"
                ]
              ],
              "ok": true,
              "status": 200,
              "status_text": "OK"
            }
          }
        },
        "id": "aMhVtHVG6QW3",
        "outputId": "1563a6c7-0f56-467d-f33b-70c1b7d016a6"
      },
      "outputs": [
        {
          "data": {
            "text/html": [
              "\n",
              "     <input type=\"file\" id=\"files-83c677d1-8714-48b7-9592-22170fe37525\" name=\"files[]\" multiple disabled\n",
              "        style=\"border:none\" />\n",
              "     <output id=\"result-83c677d1-8714-48b7-9592-22170fe37525\">\n",
              "      Upload widget is only available when the cell has been executed in the\n",
              "      current browser session. Please rerun this cell to enable.\n",
              "      </output>\n",
              "      <script src=\"/nbextensions/google.colab/files.js\"></script> "
            ],
            "text/plain": [
              "<IPython.core.display.HTML object>"
            ]
          },
          "metadata": {},
          "output_type": "display_data"
        },
        {
          "name": "stdout",
          "output_type": "stream",
          "text": [
            "Saving YT_Videos_data.csv to YT_Videos_data.csv\n"
          ]
        }
      ],
      "source": [
        "from google.colab import files\n",
        "uploaded = files.upload()"
      ]
    },
    {
      "cell_type": "code",
      "execution_count": null,
      "id": "d5a9db5e",
      "metadata": {
        "id": "d5a9db5e"
      },
      "outputs": [],
      "source": [
        "yt_data=pd.read_csv('YT_Videos_data.csv')"
      ]
    },
    {
      "cell_type": "code",
      "execution_count": null,
      "id": "8f2d1106",
      "metadata": {
        "id": "8f2d1106"
      },
      "outputs": [],
      "source": [
        "yt_data=yt_data.iloc[:,1:]"
      ]
    },
    {
      "cell_type": "code",
      "execution_count": null,
      "id": "5f44bcb7",
      "metadata": {
        "colab": {
          "base_uri": "https://localhost:8080/",
          "height": 424
        },
        "id": "5f44bcb7",
        "outputId": "7936b71b-4f1d-42df-cf62-66f5f9d6ed80"
      },
      "outputs": [
        {
          "data": {
            "text/html": [
              "\n",
              "  <div id=\"df-13d42f15-986f-422f-90e9-5cf6b75fc416\">\n",
              "    <div class=\"colab-df-container\">\n",
              "      <div>\n",
              "<style scoped>\n",
              "    .dataframe tbody tr th:only-of-type {\n",
              "        vertical-align: middle;\n",
              "    }\n",
              "\n",
              "    .dataframe tbody tr th {\n",
              "        vertical-align: top;\n",
              "    }\n",
              "\n",
              "    .dataframe thead th {\n",
              "        text-align: right;\n",
              "    }\n",
              "</style>\n",
              "<table border=\"1\" class=\"dataframe\">\n",
              "  <thead>\n",
              "    <tr style=\"text-align: right;\">\n",
              "      <th></th>\n",
              "      <th>Title</th>\n",
              "      <th>Description</th>\n",
              "      <th>Category</th>\n",
              "    </tr>\n",
              "  </thead>\n",
              "  <tbody>\n",
              "    <tr>\n",
              "      <th>0</th>\n",
              "      <td>PARIS TRAVEL VLOG | Indian Girl Traveling Solo...</td>\n",
              "      <td>Bonjour from Paris! I'm on a one month long so...</td>\n",
              "      <td>travel</td>\n",
              "    </tr>\n",
              "    <tr>\n",
              "      <th>1</th>\n",
              "      <td>LAKSHADWEEP TRAVEL VLOG | How to Travel to Lak...</td>\n",
              "      <td>Here's the first part of my 4 part travel seri...</td>\n",
              "      <td>travel</td>\n",
              "    </tr>\n",
              "    <tr>\n",
              "      <th>2</th>\n",
              "      <td>Traveling to the Happiest Country in the World!!</td>\n",
              "      <td>BLACK FRIDAY DROP Out Now*: http://seek-discom...</td>\n",
              "      <td>travel</td>\n",
              "    </tr>\n",
              "    <tr>\n",
              "      <th>3</th>\n",
              "      <td>Lonavala - Traveling in Monsoon</td>\n",
              "      <td>I travelled to lonavala, korigad, aamby valley...</td>\n",
              "      <td>travel</td>\n",
              "    </tr>\n",
              "    <tr>\n",
              "      <th>4</th>\n",
              "      <td>How I Became a TRAVEL VLOGGER | Make Money Eve...</td>\n",
              "      <td>The first 1000 people to use the link will get...</td>\n",
              "      <td>travel</td>\n",
              "    </tr>\n",
              "    <tr>\n",
              "      <th>...</th>\n",
              "      <td>...</td>\n",
              "      <td>...</td>\n",
              "      <td>...</td>\n",
              "    </tr>\n",
              "    <tr>\n",
              "      <th>3432</th>\n",
              "      <td>Crystal Palace vs. Manchester City [0-0] | Pre...</td>\n",
              "      <td>CRYSTAL PALACE vs. MANCHESTER CITY Premier Lea...</td>\n",
              "      <td>sports</td>\n",
              "    </tr>\n",
              "    <tr>\n",
              "      <th>3433</th>\n",
              "      <td>TV9 Marathi Live | Devendra Fadnavis | Maharas...</td>\n",
              "      <td>Vidhan Sabha (Assembly) Election Results 2022 ...</td>\n",
              "      <td>sports</td>\n",
              "    </tr>\n",
              "    <tr>\n",
              "      <th>3434</th>\n",
              "      <td>Pattalam Full Tamil Movie | Nadiya | Roshan Kr...</td>\n",
              "      <td>Director - Rohan Krishna Producer - N. Subash ...</td>\n",
              "      <td>sports</td>\n",
              "    </tr>\n",
              "    <tr>\n",
              "      <th>3435</th>\n",
              "      <td>Ptv Sports Live Match | Pak Vs Aus Live Match ...</td>\n",
              "      <td>Pakistan Vs Australia Live Match.</td>\n",
              "      <td>sports</td>\n",
              "    </tr>\n",
              "    <tr>\n",
              "      <th>3436</th>\n",
              "      <td>Best of karate training. ll 🔥🔥🔥 #karatefight #...</td>\n",
              "      <td>NaN</td>\n",
              "      <td>sports</td>\n",
              "    </tr>\n",
              "  </tbody>\n",
              "</table>\n",
              "<p>3437 rows × 3 columns</p>\n",
              "</div>\n",
              "      <button class=\"colab-df-convert\" onclick=\"convertToInteractive('df-13d42f15-986f-422f-90e9-5cf6b75fc416')\"\n",
              "              title=\"Convert this dataframe to an interactive table.\"\n",
              "              style=\"display:none;\">\n",
              "        \n",
              "  <svg xmlns=\"http://www.w3.org/2000/svg\" height=\"24px\"viewBox=\"0 0 24 24\"\n",
              "       width=\"24px\">\n",
              "    <path d=\"M0 0h24v24H0V0z\" fill=\"none\"/>\n",
              "    <path d=\"M18.56 5.44l.94 2.06.94-2.06 2.06-.94-2.06-.94-.94-2.06-.94 2.06-2.06.94zm-11 1L8.5 8.5l.94-2.06 2.06-.94-2.06-.94L8.5 2.5l-.94 2.06-2.06.94zm10 10l.94 2.06.94-2.06 2.06-.94-2.06-.94-.94-2.06-.94 2.06-2.06.94z\"/><path d=\"M17.41 7.96l-1.37-1.37c-.4-.4-.92-.59-1.43-.59-.52 0-1.04.2-1.43.59L10.3 9.45l-7.72 7.72c-.78.78-.78 2.05 0 2.83L4 21.41c.39.39.9.59 1.41.59.51 0 1.02-.2 1.41-.59l7.78-7.78 2.81-2.81c.8-.78.8-2.07 0-2.86zM5.41 20L4 18.59l7.72-7.72 1.47 1.35L5.41 20z\"/>\n",
              "  </svg>\n",
              "      </button>\n",
              "      \n",
              "  <style>\n",
              "    .colab-df-container {\n",
              "      display:flex;\n",
              "      flex-wrap:wrap;\n",
              "      gap: 12px;\n",
              "    }\n",
              "\n",
              "    .colab-df-convert {\n",
              "      background-color: #E8F0FE;\n",
              "      border: none;\n",
              "      border-radius: 50%;\n",
              "      cursor: pointer;\n",
              "      display: none;\n",
              "      fill: #1967D2;\n",
              "      height: 32px;\n",
              "      padding: 0 0 0 0;\n",
              "      width: 32px;\n",
              "    }\n",
              "\n",
              "    .colab-df-convert:hover {\n",
              "      background-color: #E2EBFA;\n",
              "      box-shadow: 0px 1px 2px rgba(60, 64, 67, 0.3), 0px 1px 3px 1px rgba(60, 64, 67, 0.15);\n",
              "      fill: #174EA6;\n",
              "    }\n",
              "\n",
              "    [theme=dark] .colab-df-convert {\n",
              "      background-color: #3B4455;\n",
              "      fill: #D2E3FC;\n",
              "    }\n",
              "\n",
              "    [theme=dark] .colab-df-convert:hover {\n",
              "      background-color: #434B5C;\n",
              "      box-shadow: 0px 1px 3px 1px rgba(0, 0, 0, 0.15);\n",
              "      filter: drop-shadow(0px 1px 2px rgba(0, 0, 0, 0.3));\n",
              "      fill: #FFFFFF;\n",
              "    }\n",
              "  </style>\n",
              "\n",
              "      <script>\n",
              "        const buttonEl =\n",
              "          document.querySelector('#df-13d42f15-986f-422f-90e9-5cf6b75fc416 button.colab-df-convert');\n",
              "        buttonEl.style.display =\n",
              "          google.colab.kernel.accessAllowed ? 'block' : 'none';\n",
              "\n",
              "        async function convertToInteractive(key) {\n",
              "          const element = document.querySelector('#df-13d42f15-986f-422f-90e9-5cf6b75fc416');\n",
              "          const dataTable =\n",
              "            await google.colab.kernel.invokeFunction('convertToInteractive',\n",
              "                                                     [key], {});\n",
              "          if (!dataTable) return;\n",
              "\n",
              "          const docLinkHtml = 'Like what you see? Visit the ' +\n",
              "            '<a target=\"_blank\" href=https://colab.research.google.com/notebooks/data_table.ipynb>data table notebook</a>'\n",
              "            + ' to learn more about interactive tables.';\n",
              "          element.innerHTML = '';\n",
              "          dataTable['output_type'] = 'display_data';\n",
              "          await google.colab.output.renderOutput(dataTable, element);\n",
              "          const docLink = document.createElement('div');\n",
              "          docLink.innerHTML = docLinkHtml;\n",
              "          element.appendChild(docLink);\n",
              "        }\n",
              "      </script>\n",
              "    </div>\n",
              "  </div>\n",
              "  "
            ],
            "text/plain": [
              "                                                  Title  \\\n",
              "0     PARIS TRAVEL VLOG | Indian Girl Traveling Solo...   \n",
              "1     LAKSHADWEEP TRAVEL VLOG | How to Travel to Lak...   \n",
              "2      Traveling to the Happiest Country in the World!!   \n",
              "3                       Lonavala - Traveling in Monsoon   \n",
              "4     How I Became a TRAVEL VLOGGER | Make Money Eve...   \n",
              "...                                                 ...   \n",
              "3432  Crystal Palace vs. Manchester City [0-0] | Pre...   \n",
              "3433  TV9 Marathi Live | Devendra Fadnavis | Maharas...   \n",
              "3434  Pattalam Full Tamil Movie | Nadiya | Roshan Kr...   \n",
              "3435  Ptv Sports Live Match | Pak Vs Aus Live Match ...   \n",
              "3436  Best of karate training. ll 🔥🔥🔥 #karatefight #...   \n",
              "\n",
              "                                            Description Category  \n",
              "0     Bonjour from Paris! I'm on a one month long so...   travel  \n",
              "1     Here's the first part of my 4 part travel seri...   travel  \n",
              "2     BLACK FRIDAY DROP Out Now*: http://seek-discom...   travel  \n",
              "3     I travelled to lonavala, korigad, aamby valley...   travel  \n",
              "4     The first 1000 people to use the link will get...   travel  \n",
              "...                                                 ...      ...  \n",
              "3432  CRYSTAL PALACE vs. MANCHESTER CITY Premier Lea...   sports  \n",
              "3433  Vidhan Sabha (Assembly) Election Results 2022 ...   sports  \n",
              "3434  Director - Rohan Krishna Producer - N. Subash ...   sports  \n",
              "3435                  Pakistan Vs Australia Live Match.   sports  \n",
              "3436                                                NaN   sports  \n",
              "\n",
              "[3437 rows x 3 columns]"
            ]
          },
          "execution_count": 8,
          "metadata": {},
          "output_type": "execute_result"
        }
      ],
      "source": [
        "yt_data"
      ]
    },
    {
      "cell_type": "code",
      "execution_count": 1,
      "id": "ToFFnUhEcm7I",
      "metadata": {
        "id": "ToFFnUhEcm7I"
      },
      "outputs": [],
      "source": []
    },
    {
      "cell_type": "code",
      "execution_count": 1,
      "id": "18327b16",
      "metadata": {
        "id": "18327b16"
      },
      "outputs": [],
      "source": []
    },
    {
      "cell_type": "code",
      "execution_count": null,
      "id": "6e2502e5",
      "metadata": {
        "id": "6e2502e5"
      },
      "outputs": [],
      "source": []
    },
    {
      "cell_type": "code",
      "execution_count": 1,
      "id": "ff4da193",
      "metadata": {
        "id": "ff4da193"
      },
      "outputs": [],
      "source": []
    },
    {
      "cell_type": "code",
      "execution_count": null,
      "id": "q6rJqppX7xgf",
      "metadata": {
        "id": "q6rJqppX7xgf"
      },
      "outputs": [],
      "source": []
    },
    {
      "cell_type": "code",
      "execution_count": null,
      "id": "VvT6pZWR7xyw",
      "metadata": {
        "id": "VvT6pZWR7xyw"
      },
      "outputs": [],
      "source": []
    },
    {
      "cell_type": "code",
      "execution_count": null,
      "id": "QhRcj6c37x10",
      "metadata": {
        "id": "QhRcj6c37x10"
      },
      "outputs": [],
      "source": []
    },
    {
      "cell_type": "code",
      "execution_count": null,
      "id": "QHdwsl9HxCaB",
      "metadata": {
        "id": "QHdwsl9HxCaB"
      },
      "outputs": [],
      "source": []
    },
    {
      "cell_type": "code",
      "execution_count": null,
      "id": "KwEVBJ-l7x5A",
      "metadata": {
        "id": "KwEVBJ-l7x5A"
      },
      "outputs": [],
      "source": []
    },
    {
      "cell_type": "code",
      "execution_count": null,
      "id": "czgY03cX-wZ2",
      "metadata": {
        "id": "czgY03cX-wZ2"
      },
      "outputs": [],
      "source": []
    },
    {
      "cell_type": "code",
      "execution_count": null,
      "id": "RiycEbS57x_d",
      "metadata": {
        "id": "RiycEbS57x_d"
      },
      "outputs": [],
      "source": []
    },
    {
      "cell_type": "code",
      "execution_count": null,
      "id": "QB2nFLiw7yDa",
      "metadata": {
        "id": "QB2nFLiw7yDa"
      },
      "outputs": [],
      "source": []
    },
    {
      "cell_type": "code",
      "execution_count": null,
      "id": "44900BTaAj7F",
      "metadata": {
        "id": "44900BTaAj7F"
      },
      "outputs": [],
      "source": []
    },
    {
      "cell_type": "code",
      "execution_count": null,
      "id": "xTBxfmpEBM5b",
      "metadata": {
        "id": "xTBxfmpEBM5b"
      },
      "outputs": [],
      "source": []
    },
    {
      "cell_type": "code",
      "execution_count": null,
      "id": "Dzl3GTynBf6U",
      "metadata": {
        "id": "Dzl3GTynBf6U"
      },
      "outputs": [],
      "source": []
    },
    {
      "cell_type": "code",
      "execution_count": null,
      "id": "0rxHiaTGBgJM",
      "metadata": {
        "id": "0rxHiaTGBgJM"
      },
      "outputs": [],
      "source": []
    },
    {
      "cell_type": "code",
      "execution_count": null,
      "id": "8qwndrEDDk9u",
      "metadata": {
        "id": "8qwndrEDDk9u"
      },
      "outputs": [],
      "source": []
    },
    {
      "cell_type": "code",
      "execution_count": null,
      "id": "W_gPXv3sEWQb",
      "metadata": {
        "id": "W_gPXv3sEWQb"
      },
      "outputs": [],
      "source": []
    },
    {
      "cell_type": "code",
      "execution_count": null,
      "id": "Xa4lMittD8fz",
      "metadata": {
        "id": "Xa4lMittD8fz"
      },
      "outputs": [],
      "source": []
    },
    {
      "cell_type": "code",
      "execution_count": null,
      "id": "RljeyIuxKalf",
      "metadata": {
        "id": "RljeyIuxKalf"
      },
      "outputs": [],
      "source": []
    },
    {
      "cell_type": "code",
      "execution_count": 1,
      "id": "Cv5sgFRGBgMi",
      "metadata": {
        "id": "Cv5sgFRGBgMi"
      },
      "outputs": [],
      "source": []
    },
    {
      "cell_type": "code",
      "execution_count": null,
      "id": "MBm4oVHEBgP6",
      "metadata": {
        "id": "MBm4oVHEBgP6"
      },
      "outputs": [],
      "source": []
    },
    {
      "cell_type": "code",
      "execution_count": null,
      "id": "hI1QSj1Iz5eP",
      "metadata": {
        "id": "hI1QSj1Iz5eP"
      },
      "outputs": [],
      "source": []
    },
    {
      "cell_type": "code",
      "execution_count": null,
      "id": "_QqyPfq-0hFd",
      "metadata": {
        "id": "_QqyPfq-0hFd"
      },
      "outputs": [],
      "source": []
    },
    {
      "cell_type": "code",
      "execution_count": null,
      "id": "RPNnBu530r_f",
      "metadata": {
        "id": "RPNnBu530r_f"
      },
      "outputs": [],
      "source": []
    },
    {
      "cell_type": "code",
      "execution_count": null,
      "id": "9q5owZpi1Dd2",
      "metadata": {
        "id": "9q5owZpi1Dd2"
      },
      "outputs": [],
      "source": []
    },
    {
      "cell_type": "code",
      "execution_count": 1,
      "id": "Sfs3CCb62FnZ",
      "metadata": {
        "id": "Sfs3CCb62FnZ"
      },
      "outputs": [],
      "source": []
    },
    {
      "cell_type": "code",
      "execution_count": null,
      "id": "vdTHpJxT6H6-",
      "metadata": {
        "id": "vdTHpJxT6H6-"
      },
      "outputs": [],
      "source": []
    },
    {
      "cell_type": "code",
      "execution_count": null,
      "id": "sMZfvlHkT9ZL",
      "metadata": {
        "id": "sMZfvlHkT9ZL"
      },
      "outputs": [],
      "source": []
    },
    {
      "cell_type": "code",
      "execution_count": null,
      "id": "RZCGM4dv69M5",
      "metadata": {
        "id": "RZCGM4dv69M5"
      },
      "outputs": [],
      "source": []
    },
    {
      "cell_type": "code",
      "execution_count": null,
      "id": "fgPCiSUw-2s-",
      "metadata": {
        "id": "fgPCiSUw-2s-"
      },
      "outputs": [],
      "source": []
    },
    {
      "cell_type": "code",
      "execution_count": null,
      "id": "p3DmnXGy9szA",
      "metadata": {
        "id": "p3DmnXGy9szA"
      },
      "outputs": [],
      "source": []
    },
    {
      "cell_type": "code",
      "execution_count": null,
      "id": "WKnK1DGl73NT",
      "metadata": {
        "id": "WKnK1DGl73NT"
      },
      "outputs": [],
      "source": []
    },
    {
      "cell_type": "code",
      "execution_count": null,
      "id": "fdjGRxSIftN-",
      "metadata": {
        "id": "fdjGRxSIftN-"
      },
      "outputs": [],
      "source": []
    },
    {
      "cell_type": "code",
      "execution_count": null,
      "id": "w8qOD91sUO-U",
      "metadata": {
        "id": "w8qOD91sUO-U"
      },
      "outputs": [],
      "source": []
    },
    {
      "cell_type": "code",
      "execution_count": null,
      "id": "I3_NXW_s6Plr",
      "metadata": {
        "id": "I3_NXW_s6Plr"
      },
      "outputs": [],
      "source": []
    },
    {
      "cell_type": "code",
      "execution_count": null,
      "id": "JmwwBxKq6z6X",
      "metadata": {
        "id": "JmwwBxKq6z6X"
      },
      "outputs": [],
      "source": []
    },
    {
      "cell_type": "code",
      "execution_count": null,
      "id": "58QYKZxZO8Px",
      "metadata": {
        "id": "58QYKZxZO8Px"
      },
      "outputs": [],
      "source": []
    },
    {
      "cell_type": "code",
      "execution_count": null,
      "id": "u9rzKWYs7xgj",
      "metadata": {
        "id": "u9rzKWYs7xgj"
      },
      "outputs": [],
      "source": []
    },
    {
      "cell_type": "code",
      "execution_count": null,
      "id": "07iWwBWe6_tW",
      "metadata": {
        "id": "07iWwBWe6_tW"
      },
      "outputs": [],
      "source": []
    },
    {
      "cell_type": "code",
      "execution_count": null,
      "id": "lGc2P-aZLUxK",
      "metadata": {
        "id": "lGc2P-aZLUxK"
      },
      "outputs": [],
      "source": []
    },
    {
      "cell_type": "code",
      "execution_count": null,
      "id": "wX8SHnzq43ah",
      "metadata": {
        "id": "wX8SHnzq43ah"
      },
      "outputs": [],
      "source": []
    },
    {
      "cell_type": "code",
      "execution_count": null,
      "id": "ouz74JZ6LU1C",
      "metadata": {
        "id": "ouz74JZ6LU1C"
      },
      "outputs": [],
      "source": []
    },
    {
      "cell_type": "code",
      "execution_count": null,
      "id": "wffNb5HqLU4r",
      "metadata": {
        "id": "wffNb5HqLU4r"
      },
      "outputs": [],
      "source": []
    },
    {
      "cell_type": "code",
      "execution_count": null,
      "id": "eT7AvU2pLU8L",
      "metadata": {
        "id": "eT7AvU2pLU8L"
      },
      "outputs": [],
      "source": []
    },
    {
      "cell_type": "code",
      "execution_count": null,
      "id": "m2apCLiFBgTc",
      "metadata": {
        "id": "m2apCLiFBgTc"
      },
      "outputs": [],
      "source": []
    },
    {
      "cell_type": "code",
      "execution_count": null,
      "id": "jDU4ANnIBgWv",
      "metadata": {
        "id": "jDU4ANnIBgWv"
      },
      "outputs": [],
      "source": []
    }
  ],
  "metadata": {
    "colab": {
      "collapsed_sections": [],
      "name": "data_collection.ipynb",
      "provenance": []
    },
    "kernelspec": {
      "display_name": "Python 3 (ipykernel)",
      "language": "python",
      "name": "python3"
    },
    "language_info": {
      "codemirror_mode": {
        "name": "ipython",
        "version": 3
      },
      "file_extension": ".py",
      "mimetype": "text/x-python",
      "name": "python",
      "nbconvert_exporter": "python",
      "pygments_lexer": "ipython3",
      "version": "3.9.7"
    }
  },
  "nbformat": 4,
  "nbformat_minor": 5
}
